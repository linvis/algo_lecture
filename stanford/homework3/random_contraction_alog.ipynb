{
 "cells": [
  {
   "cell_type": "code",
   "execution_count": 3,
   "metadata": {},
   "outputs": [],
   "source": [
    "import networkx as nx\n",
    "%matplotlib inline"
   ]
  },
  {
   "cell_type": "code",
   "execution_count": 106,
   "metadata": {},
   "outputs": [],
   "source": [
    "network = {}"
   ]
  },
  {
   "cell_type": "code",
   "execution_count": 146,
   "metadata": {},
   "outputs": [],
   "source": [
    "with open('demo.txt', 'r') as f:\n",
    "    line = f.readline()\n",
    "    while line:\n",
    "        line = line.split()\n",
    "        network[line[0]] = line[1:]\n",
    "        line = f.readline()     "
   ]
  },
  {
   "cell_type": "code",
   "execution_count": 122,
   "metadata": {},
   "outputs": [
    {
     "data": {
      "text/plain": [
       "{'2': ['1', '3', '4'], '3': ['1', '2', '4'], '1': ['2', '3'], '4': ['2', '3']}"
      ]
     },
     "execution_count": 122,
     "metadata": {},
     "output_type": "execute_result"
    }
   ],
   "source": [
    "network"
   ]
  },
  {
   "cell_type": "code",
   "execution_count": 109,
   "metadata": {},
   "outputs": [],
   "source": [
    "g = nx.Graph(network)"
   ]
  },
  {
   "cell_type": "code",
   "execution_count": 110,
   "metadata": {},
   "outputs": [
    {
     "name": "stderr",
     "output_type": "stream",
     "text": [
      "/anaconda3/lib/python3.7/site-packages/networkx/drawing/nx_pylab.py:611: MatplotlibDeprecationWarning: isinstance(..., numbers.Number)\n",
      "  if cb.is_numlike(alpha):\n"
     ]
    },
    {
     "data": {
      "image/png": "[encoded data removed]",
      "text/plain": [
       "<Figure size 432x288 with 1 Axes>"
      ]
     },
     "metadata": {},
     "output_type": "display_data"
    }
   ],
   "source": [
    "nx.draw(g, with_labels=True)"
   ]
  },
  {
   "cell_type": "code",
   "execution_count": 149,
   "metadata": {},
   "outputs": [],
   "source": [
    "import random\n",
    "import copy"
   ]
  },
  {
   "cell_type": "code",
   "execution_count": 173,
   "metadata": {},
   "outputs": [],
   "source": [
    "def random_contraction_algo(graph):\n",
    "\n",
    "    cuts = {}\n",
    "    while len(graph) > 2:\n",
    "        # choice an edge\n",
    "        u = random.choice(list(graph.keys()))\n",
    "        v = random.choice(graph[u])\n",
    "        \n",
    "        # delete edge\n",
    "        graph[u].remove(v)\n",
    "        graph[v].remove(u)\n",
    "        \n",
    "        print(\"delete edge {}-{}\".format(u,v))\n",
    "        \n",
    "        if v in graph[u]:\n",
    "            continue\n",
    "        \n",
    "        # contraction\n",
    "        if len(graph[u]) > len(graph[v]):\n",
    "            u,v = v, u\n",
    "            \n",
    "        print(\"contraction {}->{}\".format(u, v))\n",
    "        \n",
    "        graph[v] += graph[u]\n",
    "        for node in graph[u]:\n",
    "            graph[node] = [v if x == u else x for x in graph[node]]\n",
    "        del graph[u]\n",
    "        \n",
    "        # put u,v in cut\n",
    "        if v in cuts.keys():\n",
    "            cuts[v] += u\n",
    "        else:\n",
    "            if u in cuts.keys():\n",
    "                cuts[v] = cuts[u] + [u]\n",
    "        uv_is_in_cut = False\n",
    "        for cut in cuts:\n",
    "            if u or v in cut:\n",
    "                cut.update([u,v])\n",
    "                uv_is_in_cut = True\n",
    "                break\n",
    "        if uv_is_in_cut is False:\n",
    "            cuts.append(set([u,v]))\n",
    "       \n",
    "    return graph, cuts"
   ]
  },
  {
   "cell_type": "code",
   "execution_count": 174,
   "metadata": {},
   "outputs": [
    {
     "name": "stdout",
     "output_type": "stream",
     "text": [
      "delete edge 4-2\n",
      "contraction 4->2\n",
      "delete edge 1-3\n",
      "contraction 1->3\n"
     ]
    },
    {
     "data": {
      "text/plain": [
       "[{'1', '2', '3', '4'}]"
      ]
     },
     "execution_count": 174,
     "metadata": {},
     "output_type": "execute_result"
    }
   ],
   "source": [
    "gra = copy.deepcopy(network)\n",
    "g,cut = random_contraction_algo(gra)\n",
    "cut"
   ]
  },
  {
   "cell_type": "code",
   "execution_count": 170,
   "metadata": {},
   "outputs": [
    {
     "data": {
      "text/plain": [
       "{'2': ['3', '3', '3'], '3': ['2', '2', '2']}"
      ]
     },
     "execution_count": 170,
     "metadata": {},
     "output_type": "execute_result"
    }
   ],
   "source": [
    "g"
   ]
  }
 ],
 "metadata": {
  "kernelspec": {
   "display_name": "Python 3",
   "language": "python",
   "name": "python3"
  },
  "language_info": {
   "codemirror_mode": {
    "name": "ipython",
    "version": 3
   },
   "file_extension": ".py",
   "mimetype": "text/x-python",
   "name": "python",
   "nbconvert_exporter": "python",
   "pygments_lexer": "ipython3",
   "version": "3.7.1"
  }
 },
 "nbformat": 4,
 "nbformat_minor": 2
}
