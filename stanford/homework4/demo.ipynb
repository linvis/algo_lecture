{
 "cells": [
  {
   "cell_type": "code",
   "execution_count": 1,
   "metadata": {},
   "outputs": [],
   "source": [
    "import matplotlib.pyplot as plt"
   ]
  },
  {
   "cell_type": "code",
   "execution_count": 2,
   "metadata": {},
   "outputs": [],
   "source": [
    "import networkx as nx"
   ]
  },
  {
   "cell_type": "code",
   "execution_count": 128,
   "metadata": {},
   "outputs": [
    {
     "data": {
      "image/png": "[encoded data removed]",
      "text/plain": [
       "<Figure size 432x288 with 1 Axes>"
      ]
     },
     "metadata": {},
     "output_type": "display_data"
    }
   ],
   "source": [
    "g = nx.dense_gnm_random_graph(10, 13)\n",
    "nx.draw(g, with_labels=True)"
   ]
  },
  {
   "cell_type": "code",
   "execution_count": 15,
   "metadata": {},
   "outputs": [
    {
     "data": {
      "text/plain": [
       "[0, 1, 2, 3, 4, 5, 6, 7, 8, 9]"
      ]
     },
     "execution_count": 15,
     "metadata": {},
     "output_type": "execute_result"
    }
   ],
   "source": [
    "list(g.nodes)"
   ]
  },
  {
   "cell_type": "code",
   "execution_count": 18,
   "metadata": {},
   "outputs": [
    {
     "data": {
      "text/plain": [
       "[6, 8, 9]"
      ]
     },
     "execution_count": 18,
     "metadata": {},
     "output_type": "execute_result"
    }
   ],
   "source": [
    "list(g.adj[1])"
   ]
  },
  {
   "cell_type": "code",
   "execution_count": 112,
   "metadata": {},
   "outputs": [],
   "source": [
    "def bfs(graph):\n",
    "    nodes = list(graph.nodes)\n",
    "    \n",
    "    pathes = [[nodes[0]]]\n",
    "    seen = []\n",
    "    \n",
    "    while len(pathes) > 0:\n",
    "        path = pathes.pop(0)\n",
    "        \n",
    "        s = path[-1]\n",
    "        \n",
    "        if s in seen:continue\n",
    "        print(path)\n",
    "        \n",
    "        adj = list(graph.adj[s])\n",
    "    \n",
    "        for v in adj:\n",
    "            pathes += [path + [v]]\n",
    "            \n",
    "        seen.append(s)"
   ]
  },
  {
   "cell_type": "code",
   "execution_count": 129,
   "metadata": {},
   "outputs": [
    {
     "name": "stdout",
     "output_type": "stream",
     "text": [
      "[0]\n",
      "[0, 4]\n",
      "[0, 6]\n",
      "[0, 7]\n",
      "[0, 8]\n",
      "[0, 9]\n",
      "[0, 4, 2]\n",
      "[0, 6, 3]\n",
      "[0, 8, 1]\n",
      "[0, 8, 5]\n"
     ]
    }
   ],
   "source": [
    "bfs(g)"
   ]
  },
  {
   "cell_type": "code",
   "execution_count": 120,
   "metadata": {},
   "outputs": [],
   "source": [
    "def dfs(graph):\n",
    "    nodes = list(graph.nodes)\n",
    "    \n",
    "    pathes = [[nodes[0]]]\n",
    "    seen = []\n",
    "    \n",
    "    while len(pathes) > 0:\n",
    "        path = pathes.pop(0)\n",
    "\n",
    "        s = path[-1]\n",
    "\n",
    "        if s in seen:continue\n",
    "        print(path)\n",
    "\n",
    "        adj = list(graph.adj[s])\n",
    "\n",
    "        for v in adj:\n",
    "            pathes = [path + [v]] + pathes\n",
    "\n",
    "        seen.append(s)"
   ]
  },
  {
   "cell_type": "code",
   "execution_count": 131,
   "metadata": {},
   "outputs": [
    {
     "name": "stdout",
     "output_type": "stream",
     "text": [
      "[0]\n",
      "[0, 9]\n",
      "[0, 9, 1]\n",
      "[0, 9, 1, 8]\n",
      "[0, 9, 1, 8, 5]\n",
      "[0, 9, 1, 8, 4]\n",
      "[0, 9, 1, 8, 4, 7]\n",
      "[0, 9, 1, 8, 4, 2]\n",
      "[0, 9, 1, 8, 4, 2, 6]\n",
      "[0, 9, 1, 8, 4, 2, 6, 3]\n"
     ]
    }
   ],
   "source": [
    "dfs(g)"
   ]
  },
  {
   "cell_type": "code",
   "execution_count": 150,
   "metadata": {},
   "outputs": [],
   "source": [
    "# path is lost\n",
    "def bfs_node(graph):\n",
    "    nodes = list(graph.nodes)\n",
    "    q = [nodes[0]]\n",
    "    seen = []\n",
    "    \n",
    "    while len(q) > 0:\n",
    "        s = q.pop(0)\n",
    "        adj = list(graph.adj[s])\n",
    "        \n",
    "        for v in adj:\n",
    "            if v in seen: continue\n",
    "            print(\"{}->{}\".format(s,v))\n",
    "            seen.append(v)\n",
    "            q += [v]"
   ]
  },
  {
   "cell_type": "code",
   "execution_count": 151,
   "metadata": {},
   "outputs": [
    {
     "name": "stdout",
     "output_type": "stream",
     "text": [
      "0->4\n",
      "0->6\n",
      "0->7\n",
      "0->8\n",
      "0->9\n",
      "4->0\n",
      "4->2\n",
      "6->3\n",
      "8->1\n",
      "8->5\n"
     ]
    }
   ],
   "source": [
    "bfs_node(g)"
   ]
  },
  {
   "cell_type": "code",
   "execution_count": 160,
   "metadata": {},
   "outputs": [],
   "source": [
    "# path is lost\n",
    "def dfs_node(graph):\n",
    "    nodes = list(graph.nodes)\n",
    "    q = [nodes[0]]\n",
    "    seen = []\n",
    "    \n",
    "    while len(q) > 0:\n",
    "        s = q.pop(0)\n",
    "        adj = list(graph.adj[s])\n",
    "        \n",
    "        if s in seen: continue\n",
    "        \n",
    "        seen.append(s)\n",
    "        print(s)\n",
    "        \n",
    "        q = adj + q"
   ]
  },
  {
   "cell_type": "code",
   "execution_count": 159,
   "metadata": {},
   "outputs": [
    {
     "name": "stdout",
     "output_type": "stream",
     "text": [
      "0\n",
      "4\n",
      "2\n",
      "6\n",
      "3\n",
      "7\n",
      "8\n",
      "1\n",
      "9\n",
      "5\n"
     ]
    }
   ],
   "source": [
    "dfs_node(g)"
   ]
  }
 ],
 "metadata": {
  "kernelspec": {
   "display_name": "Python 3",
   "language": "python",
   "name": "python3"
  },
  "language_info": {
   "codemirror_mode": {
    "name": "ipython",
    "version": 3
   },
   "file_extension": ".py",
   "mimetype": "text/x-python",
   "name": "python",
   "nbconvert_exporter": "python",
   "pygments_lexer": "ipython3",
   "version": "3.7.3"
  }
 },
 "nbformat": 4,
 "nbformat_minor": 2
}
